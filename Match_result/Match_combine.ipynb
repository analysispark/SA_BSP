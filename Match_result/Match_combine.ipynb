{
 "cells": [
  {
   "cell_type": "code",
   "execution_count": 2,
   "metadata": {},
   "outputs": [
    {
     "ename": "FileNotFoundError",
     "evalue": "[Errno 2] No such file or directory: '/Users/parkjihoon/Documents/Work_space/Python/Django/Match_result/result'",
     "output_type": "error",
     "traceback": [
      "\u001b[0;31m---------------------------------------------------------------------------\u001b[0m",
      "\u001b[0;31mFileNotFoundError\u001b[0m                         Traceback (most recent call last)",
      "\u001b[0;32m/var/folders/r0/gvqbr7517gg2k1s_y46y5bd40000gn/T/ipykernel_40166/2363561164.py\u001b[0m in \u001b[0;36m<module>\u001b[0;34m\u001b[0m\n\u001b[1;32m      5\u001b[0m \u001b[0;31m#PATH = \"D:/Work space/Python/django/SA_BSP/Match_result/result/\" #windows\u001b[0m\u001b[0;34m\u001b[0m\u001b[0;34m\u001b[0m\u001b[0m\n\u001b[1;32m      6\u001b[0m \u001b[0mPATH\u001b[0m \u001b[0;34m=\u001b[0m \u001b[0;34m\"/Users/parkjihoon/Documents/Work_space/Python/Django/Match_result/\"\u001b[0m\u001b[0;34m\u001b[0m\u001b[0;34m\u001b[0m\u001b[0m\n\u001b[0;32m----> 7\u001b[0;31m \u001b[0mfile_list\u001b[0m \u001b[0;34m=\u001b[0m \u001b[0mos\u001b[0m\u001b[0;34m.\u001b[0m\u001b[0mlistdir\u001b[0m\u001b[0;34m(\u001b[0m\u001b[0mPATH\u001b[0m \u001b[0;34m+\u001b[0m \u001b[0;34m\"result\"\u001b[0m\u001b[0;34m)\u001b[0m\u001b[0;34m\u001b[0m\u001b[0;34m\u001b[0m\u001b[0m\n\u001b[0m\u001b[1;32m      8\u001b[0m \u001b[0mfile_list_xlsx\u001b[0m \u001b[0;34m=\u001b[0m \u001b[0;34m[\u001b[0m\u001b[0mfile\u001b[0m \u001b[0;32mfor\u001b[0m \u001b[0mfile\u001b[0m \u001b[0;32min\u001b[0m \u001b[0mfile_list\u001b[0m \u001b[0;32mif\u001b[0m \u001b[0mfile\u001b[0m\u001b[0;34m.\u001b[0m\u001b[0mendswith\u001b[0m\u001b[0;34m(\u001b[0m\u001b[0;34m'.xlsx'\u001b[0m\u001b[0;34m)\u001b[0m\u001b[0;34m]\u001b[0m\u001b[0;34m\u001b[0m\u001b[0;34m\u001b[0m\u001b[0m\n\u001b[1;32m      9\u001b[0m \u001b[0mdf\u001b[0m \u001b[0;34m=\u001b[0m \u001b[0mpd\u001b[0m\u001b[0;34m.\u001b[0m\u001b[0mDataFrame\u001b[0m\u001b[0;34m(\u001b[0m\u001b[0;34m)\u001b[0m\u001b[0;34m\u001b[0m\u001b[0;34m\u001b[0m\u001b[0m\n",
      "\u001b[0;31mFileNotFoundError\u001b[0m: [Errno 2] No such file or directory: '/Users/parkjihoon/Documents/Work_space/Python/Django/Match_result/result'"
     ]
    }
   ],
   "source": [
    "import pandas as pd\n",
    "import numpy as np\n",
    "import os\n",
    "\n",
    "#PATH = \"D:/Work space/Python/django/SA_BSP/Match_result/result/\" #windows\n",
    "PATH = \"/Users/parkjihoon/Documents/Work_space/Python/Django/Match_result/\"\n",
    "file_list = os.listdir(PATH + \"result\")\n",
    "file_list_xlsx = [file for file in file_list if file.endswith('.xlsx')] \n",
    "df = pd.DataFrame()\n",
    "\n",
    "file_list_xlsx"
   ]
  },
  {
   "cell_type": "code",
   "execution_count": 12,
   "metadata": {},
   "outputs": [],
   "source": [
    "\n",
    "for i in file_list_xlsx:\n",
    "    temp = pd.read_excel(PATH + \"result/\" + i, sheet_name= 1)\n",
    "    temp = temp.iloc[temp[\"Unnamed: 0\"].dropna().index,:]\n",
    "    temp.reset_index(drop=True, inplace=True)\n",
    "\n",
    "    Match = temp.iloc[1,1]\n",
    "    Game = temp.iloc[2,8]\n",
    "\n",
    "    s = temp['Unnamed: 0'].str.endswith(pat=\"고등학교\").tolist()\n",
    "    e = temp['Unnamed: 0'].str.endswith(pat=\"TOTAL\").tolist()\n",
    "\n",
    "    School_1 = temp.iloc[temp[s].index[0], 0]\n",
    "    School_2 = temp.iloc[temp[s].index[1], 0]\n",
    "\n",
    "    School_which = temp[s].index\n",
    "    Total_which = temp[e].index\n",
    "\n",
    "    Team_A = temp.iloc[School_which[0]+1:Total_which[0],:]\n",
    "    Team_B = temp.iloc[School_which[1]+1:Total_which[1],:]\n",
    "    Team_A.insert(0, \"Team\", School_1)\n",
    "    Team_B.insert(0, \"Team\", School_2)\n",
    "    temp = pd.concat([Team_A, Team_B], ignore_index=True)\n",
    "    temp.columns = [\"Team\", \"Name\", \"Starting\", \"Back_num\", \"SCOR_1Q\", \"SCOR_2Q\",\"SCOR_3Q\",\"SCOR_4Q\", \"SCOR_EX\", \"SCOR_TOT\",\n",
    "        \"Min\", \"2P\", \"2PA\", \"2P%\", \"3P\", \"3PA\", \"3P%\", \"FG%\", \"FT\", \"FTA\",\n",
    "        \"FT%\", \"REB_OR\", \"REB_DF\", \"REB_TOT\", \"AS\", \"ST\", \"GD\", \"BS\", \"PF_W\", \"PF_WO\",\n",
    "        \"PF_TOT\", \"TO\", \"TF\"]\n",
    "    temp.insert(0, \"Match\", Match)\n",
    "    temp.insert(1, \"Game\", Game)\n",
    "\n",
    "    df = pd.concat([df, temp], ignore_index=True)\n",
    "\n",
    "#SA KPI insert\n",
    "import SA_Function as sa\n",
    "df = pd.concat([df, sa.SA_Index(df, 1)], axis=1)"
   ]
  },
  {
   "cell_type": "code",
   "execution_count": 13,
   "metadata": {},
   "outputs": [],
   "source": [
    "#Save to dump\n",
    "df.to_excel(PATH + \"dump.xlsx\")"
   ]
  },
  {
   "cell_type": "code",
   "execution_count": null,
   "metadata": {},
   "outputs": [],
   "source": [
    "# 특성\n"
   ]
  }
 ],
 "metadata": {
  "kernelspec": {
   "display_name": "statistics",
   "language": "python",
   "name": "python3"
  },
  "language_info": {
   "codemirror_mode": {
    "name": "ipython",
    "version": 3
   },
   "file_extension": ".py",
   "mimetype": "text/x-python",
   "name": "python",
   "nbconvert_exporter": "python",
   "pygments_lexer": "ipython3",
   "version": "3.9.7 | packaged by conda-forge | (default, Sep 29 2021, 19:24:02) \n[Clang 11.1.0 ]"
  },
  "orig_nbformat": 4,
  "vscode": {
   "interpreter": {
    "hash": "78217b5f80d09353ace63338a524aa6ca202eb0b5de580fbe655d2850f6f86a9"
   }
  }
 },
 "nbformat": 4,
 "nbformat_minor": 2
}
